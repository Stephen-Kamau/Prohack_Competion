{
 "cells": [
  {
   "cell_type": "markdown",
   "metadata": {},
   "source": [
    "## Prohack Compettion Ended 21st June\n",
    "-  Author Stephen Kamau\n",
    "-  Email stiveckamash@gmail.com\n",
    "\n",
    "\n",
    "- Link To Organisation -  https://prohack.org/page/challenge\n",
    "\n",
    "- Link To Dataset  : [https://prohack.org/media/prohack_dataset_avOqBYc.zip]  (Download)"
   ]
  },
  {
   "cell_type": "markdown",
   "metadata": {},
   "source": [
    "### Challenge Description \n",
    "“Beeep…Beeeep….Beeeep… Hooomans*, are you there?...”\n",
    "\n",
    "This very strange transmission is coming from your narrowband radio signal receiver, pointed towards one of the farthest away galaxies. It’s early morning, you are sitting in your radio observatory high in the mountains.\n",
    "\n",
    "For the last 10 years you’ve been a Chief Data Scientist in one of the best astrophysics research teams in the world. You are enjoying a quiet time with a cup of coffee and reviewing the data reports from last night, when this strange sound arrived. You almost spill your coffee in surprise. “Am I dreaming?” is your first thought as you move closer towards the speaker and listen…\n",
    "\n",
    "“Beep…Beeeep….Beeeep… To all Hooomans who can hear us – we need your help”\n",
    "\n",
    "You lean closer and grab a notebook and a pencil – you don’t really trust computers when it comes to such important tasks as taking notes from a radio transmission. You start recording everything that the strange voice from light years away is saying.\n",
    "\n",
    "“… We need serious Data Science help and we know you Hooomans are the best at it…. We are an intergalactic species which have almost achieved singularity and the highest possible levels of development. We travel fast through space and explore other galaxies”\n",
    "\n",
    "“The only essence that we consume is energy, measured in DSML units…Our populace is widespread and we live across many different star clusters and galaxies. What we need now is to optimize our well-being across all those galaxies… We have a lot of data but our сomputers and methods are too weak – we urgently need your data science knowledge to help us”\n",
    "\n",
    "“Only two steps prevent us from achieving singularity\n",
    "\n",
    "· To understand what makes us better off.\n",
    "\n",
    "Our elders used the composite index to measure our well-being performance, but this knowledge has disappeared in the sands of time.\n",
    "\n",
    "Use our data and train your model to predict this index with the highest possible level of certainty.\n",
    "\n",
    "· To achieve the highest possible level of well-being through optimized allocation of additional energy\n",
    "\n",
    "We have discovered the star of an unusually high energy of 50000 zillion DSML.\n",
    "\n",
    "We have agreed between ourselves that \n",
    "\n",
    "· no one galaxy will consume more than 100 zillion DSML \n",
    "\n",
    "and \n",
    "\n",
    "· at least 10% of the total energy will be consumed by galaxies in need with existence expectancy index below 0,7.\n",
    "\n",
    "Think of our galaxies as your “countries” (or how you call them??) and our population as citizens. We have similar healthcare and wellbeing characteristic as you, Hooomans”\n",
    "\n",
    "“We are sending all the data to you right now. Let the data be with you, Hoomans… … …”\n",
    "\n",
    "Transmission suddenly ends. You put your notebook and pencil away and start thinking. You really want to help this species optimize their well-being. You open up Python and upload the dataset from the narrowband radio signal receiver. It will be another great day at the observatory today.\n",
    "\n",
    "————\n",
    "\n",
    "* probably intergalactic species meant to say “humans” here but we will never know for sure\n",
    "\n",
    "Description Data Recieved\n",
    "The solutions are evaluated on two criteria: predicted future Index values and allocated energy from a newly discovered star\n",
    "\n",
    "1) Index predictions are evaluated using RMSE metric\n",
    "\n",
    "2) Energy allocation is also evaluated using RMSE metric and has a set of known factors that need to be taken into account.\n",
    "\n",
    "Every galaxy has a certain limited potential for improvement in the index described by the following function:\n",
    "\n",
    "Potential for increase in the Index = -np.log(Index+0.01)+3\n",
    "\n",
    "Likely index increase dependent on potential for improvement and on extra energy availability is described by the following function:\n",
    "\n",
    "Likely increase in the Index = extra energy * Potential for increase in the Index **2 / 1000\n",
    "\n",
    "There are also several constraints:\n",
    "\n",
    "in total there are 50000 zillion DSML available for allocation and no galaxy at a point in time should be allocated more than 100 zillion DSML or less than 0 zillion DSML. Galaxies with low existence expectancy index below 0.7 should be allocated at least 10% of the total energy available in the foreseeable future\n",
    "\n",
    "3) Leaderboard is based on a combined scaled metric:\n",
    "\n",
    "80% prediction task RMSE + 20% optimization task RMSE * lambda where lambda is a normalizing factor\n",
    "\n",
    "4) Leaderboard is 80% public and 20% private\n",
    "\n",
    "5) The submission should be in the following format:\n",
    "\n",
    " ### Variable     Description      \n",
    " - Index   Unique index from the test dataset in the ascending order\n",
    " - pred    Prediction for the index on interest\n",
    " - opt_pred Optimal energy allocation\n",
    "\n",
    "\n",
    "\n"
   ]
  },
  {
   "cell_type": "code",
   "execution_count": null,
   "metadata": {},
   "outputs": [],
   "source": []
  },
  {
   "cell_type": "code",
   "execution_count": null,
   "metadata": {},
   "outputs": [],
   "source": []
  },
  {
   "cell_type": "code",
   "execution_count": 33,
   "metadata": {},
   "outputs": [],
   "source": [
    "#libs to be used\n",
    "import pandas as pd\n",
    "import numpy as np\n",
    "\n",
    "from sklearn.metrics import mean_squared_error as mse\n",
    "from sklearn.model_selection import train_test_split\n",
    "from sklearn.model_selection import cross_val_score\n",
    "from sklearn.model_selection import KFold\n",
    "from sklearn.preprocessing import StandardScaler #for scalling the data\n",
    "from sklearn.impute import SimpleImputer  # for filling nans\n",
    "from sklearn.model_selection import GridSearchCV #param tuning\n",
    "import warnings \n",
    "warnings.filterwarnings('ignore')"
   ]
  },
  {
   "cell_type": "markdown",
   "metadata": {},
   "source": [
    "### Here are the models that i used and compared perfomance\n",
    "### Choosing the best model from them"
   ]
  },
  {
   "cell_type": "code",
   "execution_count": 34,
   "metadata": {},
   "outputs": [],
   "source": [
    "#import models for the training and predictions\n",
    "import sys\n",
    "sys.path.append(\"/usr/local/lib/python3.7/dist-packages\")\n",
    "from lightgbm import LGBMRegressor\n",
    "# !pip install lightgbm\n",
    "from catboost import CatBoostRegressor\n",
    "from xgboost import XGBRegressor\n",
    "from sklearn.tree import DecisionTreeRegressor\n",
    "from sklearn.ensemble import RandomForestRegressor, GradientBoostingRegressor, AdaBoostRegressor\n",
    "from sklearn.svm import SVR\n",
    "from sklearn.neighbors import KNeighborsRegressor\n",
    "from sklearn.linear_model import LinearRegression\n",
    "#10 models in total"
   ]
  },
  {
   "cell_type": "code",
   "execution_count": 35,
   "metadata": {},
   "outputs": [],
   "source": [
    "#lets now load the datasetrs\n",
    "train = pd.read_csv(\"train.csv\")\n",
    "test  =pd.read_csv(\"test.csv\")\n",
    "sub = pd.read_csv(\"sample_submit.csv\")"
   ]
  },
  {
   "cell_type": "code",
   "execution_count": null,
   "metadata": {},
   "outputs": [],
   "source": []
  },
  {
   "cell_type": "code",
   "execution_count": null,
   "metadata": {},
   "outputs": [],
   "source": []
  },
  {
   "cell_type": "code",
   "execution_count": 36,
   "metadata": {},
   "outputs": [
    {
     "name": "stdout",
     "output_type": "stream",
     "text": [
      "Train has 181 galaxies\n",
      "Test has 172 galaxies\n"
     ]
    }
   ],
   "source": [
    "# check unique values in galaxy\n",
    "print(f\"Train has {train['galaxy'].nunique()} galaxies\")\n",
    "print(f\"Test has {test['galaxy'].nunique()} galaxies\")"
   ]
  },
  {
   "cell_type": "code",
   "execution_count": 37,
   "metadata": {},
   "outputs": [
    {
     "name": "stdout",
     "output_type": "stream",
     "text": [
      "Train has 26 years period\n",
      "Test has 10 years peorion\n"
     ]
    }
   ],
   "source": [
    "# check unique values in galactic year\n",
    "print(f\"Train has {train['galactic year'].nunique()} years period\")\n",
    "print(f\"Test has {test['galactic year'].nunique()} years peorion\")"
   ]
  },
  {
   "cell_type": "code",
   "execution_count": 38,
   "metadata": {},
   "outputs": [
    {
     "name": "stdout",
     "output_type": "stream",
     "text": [
      "Average for Train is 21.353591160220994\n",
      "Average for Test is 5.174418604651163\n"
     ]
    }
   ],
   "source": [
    "#check on average instance contribution for each galaxy\n",
    "print(f'Average for Train is {train.shape[0]/train[\"galaxy\"].nunique()}')\n",
    "print(f'Average for Test is {test.shape[0]/test[\"galaxy\"].nunique()}')"
   ]
  },
  {
   "cell_type": "code",
   "execution_count": 39,
   "metadata": {},
   "outputs": [
    {
     "data": {
      "text/plain": [
       "((3865, 80), (890, 79))"
      ]
     },
     "execution_count": 39,
     "metadata": {},
     "output_type": "execute_result"
    }
   ],
   "source": [
    "#checking the shape  of the dfs\n",
    "train.shape  , test.shape"
   ]
  },
  {
   "cell_type": "code",
   "execution_count": 40,
   "metadata": {},
   "outputs": [
    {
     "data": {
      "text/plain": [
       "galactic year                                                                   0\n",
       "galaxy                                                                          0\n",
       "existence expectancy index                                                      1\n",
       "existence expectancy at birth                                                   1\n",
       "Gross income per capita                                                        28\n",
       "                                                                             ... \n",
       "Adjusted net savings                                                         2953\n",
       "Creature Immunodeficiency Disease prevalence, adult (% ages 15-49), total    2924\n",
       "Private galaxy capital flows (% of GGP)                                      2991\n",
       "Gender Inequality Index (GII)                                                3021\n",
       "y                                                                               0\n",
       "Length: 80, dtype: int64"
      ]
     },
     "execution_count": 40,
     "metadata": {},
     "output_type": "execute_result"
    }
   ],
   "source": [
    "#check the values of nulls in train\n",
    "\n",
    "train.isna().sum() "
   ]
  },
  {
   "cell_type": "code",
   "execution_count": 41,
   "metadata": {},
   "outputs": [
    {
     "data": {
      "text/plain": [
       "galactic year                                                                  0\n",
       "galaxy                                                                         0\n",
       "existence expectancy index                                                     5\n",
       "existence expectancy at birth                                                  5\n",
       "Gross income per capita                                                        5\n",
       "                                                                            ... \n",
       "Intergalactic Development Index (IDI), male, Rank                            341\n",
       "Adjusted net savings                                                         371\n",
       "Creature Immunodeficiency Disease prevalence, adult (% ages 15-49), total    408\n",
       "Private galaxy capital flows (% of GGP)                                      354\n",
       "Gender Inequality Index (GII)                                                361\n",
       "Length: 79, dtype: int64"
      ]
     },
     "execution_count": 41,
     "metadata": {},
     "output_type": "execute_result"
    }
   ],
   "source": [
    "#check the values of nulls in test\n",
    "\n",
    "test.isna().sum() "
   ]
  },
  {
   "cell_type": "code",
   "execution_count": 42,
   "metadata": {},
   "outputs": [
    {
     "data": {
      "text/plain": [
       "31"
      ]
     },
     "metadata": {},
     "output_type": "display_data"
    },
    {
     "data": {
      "text/plain": [
       "[0.7040103492884864,\n",
       " 0.7094437257438551,\n",
       " 0.7071151358344114,\n",
       " 0.705045278137128,\n",
       " 0.7055627425614489,\n",
       " 0.7130659767141009,\n",
       " 0.7133247089262613,\n",
       " 0.7270375161707633,\n",
       " 0.7270375161707633,\n",
       " 0.733764553686934,\n",
       " 0.7208279430789133,\n",
       " 0.7182406209573092,\n",
       " 0.71875808538163,\n",
       " 0.7221216041397154,\n",
       " 0.7340232858990945,\n",
       " 0.7280724450194049,\n",
       " 0.7425614489003881,\n",
       " 0.7314359637774903,\n",
       " 0.7681759379042691,\n",
       " 0.7694695989650712,\n",
       " 0.774385510996119,\n",
       " 0.775679172056921,\n",
       " 0.7630012936610608,\n",
       " 0.7632600258732212,\n",
       " 0.7635187580853816,\n",
       " 0.7689521345407503,\n",
       " 0.7692108667529107,\n",
       " 0.7640362225097025,\n",
       " 0.7565329883570504,\n",
       " 0.7738680465717982,\n",
       " 0.7816300129366106]"
      ]
     },
     "execution_count": 42,
     "metadata": {},
     "output_type": "execute_result"
    }
   ],
   "source": [
    "# checkk those  with nans certain threshhold\n",
    "display(len([x for x in train.isna().sum()/train.shape[0]  if x > 0.7]))\n",
    "[x for x in train.isna().sum()/train.shape[0]  if x > 0.7]"
   ]
  },
  {
   "cell_type": "code",
   "execution_count": 43,
   "metadata": {},
   "outputs": [
    {
     "data": {
      "text/plain": [
       "[]"
      ]
     },
     "execution_count": 43,
     "metadata": {},
     "output_type": "execute_result"
    }
   ],
   "source": [
    "# checkk those with nans certain threshhold\n",
    "[x for x in test.isna().sum()/test.shape[0]  if x > 0.50]"
   ]
  },
  {
   "cell_type": "code",
   "execution_count": 44,
   "metadata": {},
   "outputs": [
    {
     "data": {
      "text/html": [
       "<div>\n",
       "<style scoped>\n",
       "    .dataframe tbody tr th:only-of-type {\n",
       "        vertical-align: middle;\n",
       "    }\n",
       "\n",
       "    .dataframe tbody tr th {\n",
       "        vertical-align: top;\n",
       "    }\n",
       "\n",
       "    .dataframe thead th {\n",
       "        text-align: right;\n",
       "    }\n",
       "</style>\n",
       "<table border=\"1\" class=\"dataframe\">\n",
       "  <thead>\n",
       "    <tr style=\"text-align: right;\">\n",
       "      <th></th>\n",
       "      <th>count</th>\n",
       "      <th>mean</th>\n",
       "      <th>std</th>\n",
       "      <th>min</th>\n",
       "      <th>25%</th>\n",
       "      <th>50%</th>\n",
       "      <th>75%</th>\n",
       "      <th>max</th>\n",
       "    </tr>\n",
       "  </thead>\n",
       "  <tbody>\n",
       "    <tr>\n",
       "      <td>galactic year</td>\n",
       "      <td>3865.0</td>\n",
       "      <td>1.000709e+06</td>\n",
       "      <td>6945.463143</td>\n",
       "      <td>990025.000000</td>\n",
       "      <td>995006.000000</td>\n",
       "      <td>1000000.000000</td>\n",
       "      <td>1.006009e+06</td>\n",
       "      <td>1.015056e+06</td>\n",
       "    </tr>\n",
       "    <tr>\n",
       "      <td>existence expectancy index</td>\n",
       "      <td>3864.0</td>\n",
       "      <td>8.724787e-01</td>\n",
       "      <td>0.162367</td>\n",
       "      <td>0.227890</td>\n",
       "      <td>0.763027</td>\n",
       "      <td>0.907359</td>\n",
       "      <td>9.927599e-01</td>\n",
       "      <td>1.246908e+00</td>\n",
       "    </tr>\n",
       "    <tr>\n",
       "      <td>existence expectancy at birth</td>\n",
       "      <td>3864.0</td>\n",
       "      <td>7.679811e+01</td>\n",
       "      <td>10.461654</td>\n",
       "      <td>34.244062</td>\n",
       "      <td>69.961449</td>\n",
       "      <td>78.995101</td>\n",
       "      <td>8.455897e+01</td>\n",
       "      <td>1.002101e+02</td>\n",
       "    </tr>\n",
       "    <tr>\n",
       "      <td>Gross income per capita</td>\n",
       "      <td>3837.0</td>\n",
       "      <td>3.163324e+04</td>\n",
       "      <td>18736.378445</td>\n",
       "      <td>-126.906522</td>\n",
       "      <td>20169.118912</td>\n",
       "      <td>26600.768195</td>\n",
       "      <td>3.689863e+04</td>\n",
       "      <td>1.510727e+05</td>\n",
       "    </tr>\n",
       "    <tr>\n",
       "      <td>Income Index</td>\n",
       "      <td>3837.0</td>\n",
       "      <td>8.251535e-01</td>\n",
       "      <td>0.194055</td>\n",
       "      <td>0.292001</td>\n",
       "      <td>0.677131</td>\n",
       "      <td>0.827300</td>\n",
       "      <td>9.702946e-01</td>\n",
       "      <td>1.361883e+00</td>\n",
       "    </tr>\n",
       "    <tr>\n",
       "      <td>...</td>\n",
       "      <td>...</td>\n",
       "      <td>...</td>\n",
       "      <td>...</td>\n",
       "      <td>...</td>\n",
       "      <td>...</td>\n",
       "      <td>...</td>\n",
       "      <td>...</td>\n",
       "      <td>...</td>\n",
       "    </tr>\n",
       "    <tr>\n",
       "      <td>Adjusted net savings</td>\n",
       "      <td>912.0</td>\n",
       "      <td>2.125292e+01</td>\n",
       "      <td>14.258986</td>\n",
       "      <td>-76.741414</td>\n",
       "      <td>15.001028</td>\n",
       "      <td>22.182571</td>\n",
       "      <td>2.913474e+01</td>\n",
       "      <td>6.190364e+01</td>\n",
       "    </tr>\n",
       "    <tr>\n",
       "      <td>Creature Immunodeficiency Disease prevalence, adult (% ages 15-49), total</td>\n",
       "      <td>941.0</td>\n",
       "      <td>6.443023e+00</td>\n",
       "      <td>4.804873</td>\n",
       "      <td>-1.192011</td>\n",
       "      <td>4.113472</td>\n",
       "      <td>5.309497</td>\n",
       "      <td>6.814577e+00</td>\n",
       "      <td>3.653846e+01</td>\n",
       "    </tr>\n",
       "    <tr>\n",
       "      <td>Private galaxy capital flows (% of GGP)</td>\n",
       "      <td>874.0</td>\n",
       "      <td>2.226147e+01</td>\n",
       "      <td>34.342797</td>\n",
       "      <td>-735.186886</td>\n",
       "      <td>17.227899</td>\n",
       "      <td>24.472557</td>\n",
       "      <td>3.174829e+01</td>\n",
       "      <td>9.594124e+01</td>\n",
       "    </tr>\n",
       "    <tr>\n",
       "      <td>Gender Inequality Index (GII)</td>\n",
       "      <td>844.0</td>\n",
       "      <td>6.007333e-01</td>\n",
       "      <td>0.205785</td>\n",
       "      <td>0.089092</td>\n",
       "      <td>0.430332</td>\n",
       "      <td>0.624640</td>\n",
       "      <td>7.674039e-01</td>\n",
       "      <td>1.098439e+00</td>\n",
       "    </tr>\n",
       "    <tr>\n",
       "      <td>y</td>\n",
       "      <td>3865.0</td>\n",
       "      <td>8.277313e-02</td>\n",
       "      <td>0.063415</td>\n",
       "      <td>0.013036</td>\n",
       "      <td>0.047889</td>\n",
       "      <td>0.057820</td>\n",
       "      <td>8.738930e-02</td>\n",
       "      <td>6.838127e-01</td>\n",
       "    </tr>\n",
       "  </tbody>\n",
       "</table>\n",
       "<p>79 rows × 8 columns</p>\n",
       "</div>"
      ],
      "text/plain": [
       "                                                     count          mean  \\\n",
       "galactic year                                       3865.0  1.000709e+06   \n",
       "existence expectancy index                          3864.0  8.724787e-01   \n",
       "existence expectancy at birth                       3864.0  7.679811e+01   \n",
       "Gross income per capita                             3837.0  3.163324e+04   \n",
       "Income Index                                        3837.0  8.251535e-01   \n",
       "...                                                    ...           ...   \n",
       "Adjusted net savings                                 912.0  2.125292e+01   \n",
       "Creature Immunodeficiency Disease prevalence, a...   941.0  6.443023e+00   \n",
       "Private galaxy capital flows (% of GGP)              874.0  2.226147e+01   \n",
       "Gender Inequality Index (GII)                        844.0  6.007333e-01   \n",
       "y                                                   3865.0  8.277313e-02   \n",
       "\n",
       "                                                             std  \\\n",
       "galactic year                                        6945.463143   \n",
       "existence expectancy index                              0.162367   \n",
       "existence expectancy at birth                          10.461654   \n",
       "Gross income per capita                             18736.378445   \n",
       "Income Index                                            0.194055   \n",
       "...                                                          ...   \n",
       "Adjusted net savings                                   14.258986   \n",
       "Creature Immunodeficiency Disease prevalence, a...      4.804873   \n",
       "Private galaxy capital flows (% of GGP)                34.342797   \n",
       "Gender Inequality Index (GII)                           0.205785   \n",
       "y                                                       0.063415   \n",
       "\n",
       "                                                              min  \\\n",
       "galactic year                                       990025.000000   \n",
       "existence expectancy index                               0.227890   \n",
       "existence expectancy at birth                           34.244062   \n",
       "Gross income per capita                               -126.906522   \n",
       "Income Index                                             0.292001   \n",
       "...                                                           ...   \n",
       "Adjusted net savings                                   -76.741414   \n",
       "Creature Immunodeficiency Disease prevalence, a...      -1.192011   \n",
       "Private galaxy capital flows (% of GGP)               -735.186886   \n",
       "Gender Inequality Index (GII)                            0.089092   \n",
       "y                                                        0.013036   \n",
       "\n",
       "                                                              25%  \\\n",
       "galactic year                                       995006.000000   \n",
       "existence expectancy index                               0.763027   \n",
       "existence expectancy at birth                           69.961449   \n",
       "Gross income per capita                              20169.118912   \n",
       "Income Index                                             0.677131   \n",
       "...                                                           ...   \n",
       "Adjusted net savings                                    15.001028   \n",
       "Creature Immunodeficiency Disease prevalence, a...       4.113472   \n",
       "Private galaxy capital flows (% of GGP)                 17.227899   \n",
       "Gender Inequality Index (GII)                            0.430332   \n",
       "y                                                        0.047889   \n",
       "\n",
       "                                                               50%  \\\n",
       "galactic year                                       1000000.000000   \n",
       "existence expectancy index                                0.907359   \n",
       "existence expectancy at birth                            78.995101   \n",
       "Gross income per capita                               26600.768195   \n",
       "Income Index                                              0.827300   \n",
       "...                                                            ...   \n",
       "Adjusted net savings                                     22.182571   \n",
       "Creature Immunodeficiency Disease prevalence, a...        5.309497   \n",
       "Private galaxy capital flows (% of GGP)                  24.472557   \n",
       "Gender Inequality Index (GII)                             0.624640   \n",
       "y                                                         0.057820   \n",
       "\n",
       "                                                             75%           max  \n",
       "galactic year                                       1.006009e+06  1.015056e+06  \n",
       "existence expectancy index                          9.927599e-01  1.246908e+00  \n",
       "existence expectancy at birth                       8.455897e+01  1.002101e+02  \n",
       "Gross income per capita                             3.689863e+04  1.510727e+05  \n",
       "Income Index                                        9.702946e-01  1.361883e+00  \n",
       "...                                                          ...           ...  \n",
       "Adjusted net savings                                2.913474e+01  6.190364e+01  \n",
       "Creature Immunodeficiency Disease prevalence, a...  6.814577e+00  3.653846e+01  \n",
       "Private galaxy capital flows (% of GGP)             3.174829e+01  9.594124e+01  \n",
       "Gender Inequality Index (GII)                       7.674039e-01  1.098439e+00  \n",
       "y                                                   8.738930e-02  6.838127e-01  \n",
       "\n",
       "[79 rows x 8 columns]"
      ]
     },
     "execution_count": 44,
     "metadata": {},
     "output_type": "execute_result"
    }
   ],
   "source": [
    "#lets try see the dataset descriptions\n",
    "\n",
    "train.describe().T"
   ]
  },
  {
   "cell_type": "code",
   "execution_count": 45,
   "metadata": {},
   "outputs": [
    {
     "data": {
      "text/html": [
       "<div>\n",
       "<style scoped>\n",
       "    .dataframe tbody tr th:only-of-type {\n",
       "        vertical-align: middle;\n",
       "    }\n",
       "\n",
       "    .dataframe tbody tr th {\n",
       "        vertical-align: top;\n",
       "    }\n",
       "\n",
       "    .dataframe thead th {\n",
       "        text-align: right;\n",
       "    }\n",
       "</style>\n",
       "<table border=\"1\" class=\"dataframe\">\n",
       "  <thead>\n",
       "    <tr style=\"text-align: right;\">\n",
       "      <th></th>\n",
       "      <th>count</th>\n",
       "      <th>mean</th>\n",
       "      <th>std</th>\n",
       "      <th>min</th>\n",
       "      <th>25%</th>\n",
       "      <th>50%</th>\n",
       "      <th>75%</th>\n",
       "      <th>max</th>\n",
       "    </tr>\n",
       "  </thead>\n",
       "  <tbody>\n",
       "    <tr>\n",
       "      <td>galactic year</td>\n",
       "      <td>890.0</td>\n",
       "      <td>1.011498e+06</td>\n",
       "      <td>2881.504700</td>\n",
       "      <td>1.007012e+06</td>\n",
       "      <td>1.009020e+06</td>\n",
       "      <td>1.011030e+06</td>\n",
       "      <td>1.014049e+06</td>\n",
       "      <td>1.016064e+06</td>\n",
       "    </tr>\n",
       "    <tr>\n",
       "      <td>existence expectancy index</td>\n",
       "      <td>885.0</td>\n",
       "      <td>9.238810e-01</td>\n",
       "      <td>0.134856</td>\n",
       "      <td>4.560855e-01</td>\n",
       "      <td>8.341182e-01</td>\n",
       "      <td>9.446832e-01</td>\n",
       "      <td>1.022712e+00</td>\n",
       "      <td>1.250508e+00</td>\n",
       "    </tr>\n",
       "    <tr>\n",
       "      <td>existence expectancy at birth</td>\n",
       "      <td>885.0</td>\n",
       "      <td>7.993837e+01</td>\n",
       "      <td>9.051945</td>\n",
       "      <td>5.156254e+01</td>\n",
       "      <td>7.386305e+01</td>\n",
       "      <td>8.147132e+01</td>\n",
       "      <td>8.642698e+01</td>\n",
       "      <td>1.004277e+02</td>\n",
       "    </tr>\n",
       "    <tr>\n",
       "      <td>Gross income per capita</td>\n",
       "      <td>885.0</td>\n",
       "      <td>3.365551e+04</td>\n",
       "      <td>18940.572797</td>\n",
       "      <td>7.340728e+02</td>\n",
       "      <td>2.127653e+04</td>\n",
       "      <td>2.826448e+04</td>\n",
       "      <td>4.113071e+04</td>\n",
       "      <td>1.349891e+05</td>\n",
       "    </tr>\n",
       "    <tr>\n",
       "      <td>Income Index</td>\n",
       "      <td>885.0</td>\n",
       "      <td>8.568686e-01</td>\n",
       "      <td>0.186299</td>\n",
       "      <td>3.576460e-01</td>\n",
       "      <td>7.102359e-01</td>\n",
       "      <td>8.688192e-01</td>\n",
       "      <td>9.976503e-01</td>\n",
       "      <td>1.307948e+00</td>\n",
       "    </tr>\n",
       "    <tr>\n",
       "      <td>...</td>\n",
       "      <td>...</td>\n",
       "      <td>...</td>\n",
       "      <td>...</td>\n",
       "      <td>...</td>\n",
       "      <td>...</td>\n",
       "      <td>...</td>\n",
       "      <td>...</td>\n",
       "      <td>...</td>\n",
       "    </tr>\n",
       "    <tr>\n",
       "      <td>Intergalactic Development Index (IDI), male, Rank</td>\n",
       "      <td>549.0</td>\n",
       "      <td>1.286353e+02</td>\n",
       "      <td>48.684267</td>\n",
       "      <td>1.852690e+01</td>\n",
       "      <td>9.009828e+01</td>\n",
       "      <td>1.304912e+02</td>\n",
       "      <td>1.681045e+02</td>\n",
       "      <td>2.373822e+02</td>\n",
       "    </tr>\n",
       "    <tr>\n",
       "      <td>Adjusted net savings</td>\n",
       "      <td>519.0</td>\n",
       "      <td>2.064039e+01</td>\n",
       "      <td>15.365777</td>\n",
       "      <td>-6.291814e+01</td>\n",
       "      <td>1.439443e+01</td>\n",
       "      <td>2.159987e+01</td>\n",
       "      <td>2.881190e+01</td>\n",
       "      <td>6.294491e+01</td>\n",
       "    </tr>\n",
       "    <tr>\n",
       "      <td>Creature Immunodeficiency Disease prevalence, adult (% ages 15-49), total</td>\n",
       "      <td>482.0</td>\n",
       "      <td>6.036133e+00</td>\n",
       "      <td>4.157453</td>\n",
       "      <td>-4.556524e-01</td>\n",
       "      <td>4.075216e+00</td>\n",
       "      <td>5.185122e+00</td>\n",
       "      <td>6.601704e+00</td>\n",
       "      <td>3.148719e+01</td>\n",
       "    </tr>\n",
       "    <tr>\n",
       "      <td>Private galaxy capital flows (% of GGP)</td>\n",
       "      <td>536.0</td>\n",
       "      <td>2.327426e+01</td>\n",
       "      <td>13.787944</td>\n",
       "      <td>-7.425490e+01</td>\n",
       "      <td>1.694301e+01</td>\n",
       "      <td>2.371402e+01</td>\n",
       "      <td>3.074608e+01</td>\n",
       "      <td>6.675176e+01</td>\n",
       "    </tr>\n",
       "    <tr>\n",
       "      <td>Gender Inequality Index (GII)</td>\n",
       "      <td>529.0</td>\n",
       "      <td>5.630591e-01</td>\n",
       "      <td>0.203167</td>\n",
       "      <td>1.390631e-01</td>\n",
       "      <td>3.808111e-01</td>\n",
       "      <td>5.694129e-01</td>\n",
       "      <td>7.337478e-01</td>\n",
       "      <td>1.088255e+00</td>\n",
       "    </tr>\n",
       "  </tbody>\n",
       "</table>\n",
       "<p>78 rows × 8 columns</p>\n",
       "</div>"
      ],
      "text/plain": [
       "                                                    count          mean  \\\n",
       "galactic year                                       890.0  1.011498e+06   \n",
       "existence expectancy index                          885.0  9.238810e-01   \n",
       "existence expectancy at birth                       885.0  7.993837e+01   \n",
       "Gross income per capita                             885.0  3.365551e+04   \n",
       "Income Index                                        885.0  8.568686e-01   \n",
       "...                                                   ...           ...   \n",
       "Intergalactic Development Index (IDI), male, Rank   549.0  1.286353e+02   \n",
       "Adjusted net savings                                519.0  2.064039e+01   \n",
       "Creature Immunodeficiency Disease prevalence, a...  482.0  6.036133e+00   \n",
       "Private galaxy capital flows (% of GGP)             536.0  2.327426e+01   \n",
       "Gender Inequality Index (GII)                       529.0  5.630591e-01   \n",
       "\n",
       "                                                             std  \\\n",
       "galactic year                                        2881.504700   \n",
       "existence expectancy index                              0.134856   \n",
       "existence expectancy at birth                           9.051945   \n",
       "Gross income per capita                             18940.572797   \n",
       "Income Index                                            0.186299   \n",
       "...                                                          ...   \n",
       "Intergalactic Development Index (IDI), male, Rank      48.684267   \n",
       "Adjusted net savings                                   15.365777   \n",
       "Creature Immunodeficiency Disease prevalence, a...      4.157453   \n",
       "Private galaxy capital flows (% of GGP)                13.787944   \n",
       "Gender Inequality Index (GII)                           0.203167   \n",
       "\n",
       "                                                             min  \\\n",
       "galactic year                                       1.007012e+06   \n",
       "existence expectancy index                          4.560855e-01   \n",
       "existence expectancy at birth                       5.156254e+01   \n",
       "Gross income per capita                             7.340728e+02   \n",
       "Income Index                                        3.576460e-01   \n",
       "...                                                          ...   \n",
       "Intergalactic Development Index (IDI), male, Rank   1.852690e+01   \n",
       "Adjusted net savings                               -6.291814e+01   \n",
       "Creature Immunodeficiency Disease prevalence, a... -4.556524e-01   \n",
       "Private galaxy capital flows (% of GGP)            -7.425490e+01   \n",
       "Gender Inequality Index (GII)                       1.390631e-01   \n",
       "\n",
       "                                                             25%  \\\n",
       "galactic year                                       1.009020e+06   \n",
       "existence expectancy index                          8.341182e-01   \n",
       "existence expectancy at birth                       7.386305e+01   \n",
       "Gross income per capita                             2.127653e+04   \n",
       "Income Index                                        7.102359e-01   \n",
       "...                                                          ...   \n",
       "Intergalactic Development Index (IDI), male, Rank   9.009828e+01   \n",
       "Adjusted net savings                                1.439443e+01   \n",
       "Creature Immunodeficiency Disease prevalence, a...  4.075216e+00   \n",
       "Private galaxy capital flows (% of GGP)             1.694301e+01   \n",
       "Gender Inequality Index (GII)                       3.808111e-01   \n",
       "\n",
       "                                                             50%  \\\n",
       "galactic year                                       1.011030e+06   \n",
       "existence expectancy index                          9.446832e-01   \n",
       "existence expectancy at birth                       8.147132e+01   \n",
       "Gross income per capita                             2.826448e+04   \n",
       "Income Index                                        8.688192e-01   \n",
       "...                                                          ...   \n",
       "Intergalactic Development Index (IDI), male, Rank   1.304912e+02   \n",
       "Adjusted net savings                                2.159987e+01   \n",
       "Creature Immunodeficiency Disease prevalence, a...  5.185122e+00   \n",
       "Private galaxy capital flows (% of GGP)             2.371402e+01   \n",
       "Gender Inequality Index (GII)                       5.694129e-01   \n",
       "\n",
       "                                                             75%           max  \n",
       "galactic year                                       1.014049e+06  1.016064e+06  \n",
       "existence expectancy index                          1.022712e+00  1.250508e+00  \n",
       "existence expectancy at birth                       8.642698e+01  1.004277e+02  \n",
       "Gross income per capita                             4.113071e+04  1.349891e+05  \n",
       "Income Index                                        9.976503e-01  1.307948e+00  \n",
       "...                                                          ...           ...  \n",
       "Intergalactic Development Index (IDI), male, Rank   1.681045e+02  2.373822e+02  \n",
       "Adjusted net savings                                2.881190e+01  6.294491e+01  \n",
       "Creature Immunodeficiency Disease prevalence, a...  6.601704e+00  3.148719e+01  \n",
       "Private galaxy capital flows (% of GGP)             3.074608e+01  6.675176e+01  \n",
       "Gender Inequality Index (GII)                       7.337478e-01  1.088255e+00  \n",
       "\n",
       "[78 rows x 8 columns]"
      ]
     },
     "execution_count": 45,
     "metadata": {},
     "output_type": "execute_result"
    }
   ],
   "source": [
    "test.describe().T"
   ]
  },
  {
   "cell_type": "code",
   "execution_count": 46,
   "metadata": {},
   "outputs": [],
   "source": [
    "# display(train.info())\n",
    "# display(test.info())"
   ]
  },
  {
   "cell_type": "code",
   "execution_count": null,
   "metadata": {},
   "outputs": [],
   "source": []
  },
  {
   "cell_type": "code",
   "execution_count": null,
   "metadata": {},
   "outputs": [],
   "source": []
  },
  {
   "cell_type": "markdown",
   "metadata": {},
   "source": [
    "## Findings\n",
    "\n",
    "- 1 . The Train dataset has 3865 and test has 890 intsances.\n",
    "- 2 . The datasets has a total of 79 feilds.\n",
    "- 3 . Train Dataset has very many Nulls with many columns (about 31 columns ) with nulls amounting to 70% .\n",
    "- 4 . Test has  no any nulls that is above 50% missing but has got many missings.\n",
    "- 5 . Span of period seems to be around 26 years as its for the test ..we move with it since its more than test.\n",
    "- 6 . The Data has 181 unique galaxies ~(highest based on train)!.\n",
    "    - This seems to represent countries available in the world.\n",
    "    - Each galaxy makes a single counttyr.\n",
    "    - Each galaxy has galactic years which represent the real  year.\n",
    "    \n",
    "- 7 . Based On contribution for Each galaxy in the Data.\n",
    "    - Each Galaxy in Train Has about 22 Instances.\n",
    "    - Foer Each intest is about 6 instances.\n",
    "    \n",
    "- 8 . The Data has got Soo Many **Outliers**.\n",
    "     - This is based on observation i saw using the max and 0.75 percentile \n",
    "     - For those datas with outliers there is a great variation in thus values\n",
    "     - The Difference btween max and 75% is very large Indicating that the data has outlies"
   ]
  },
  {
   "cell_type": "code",
   "execution_count": 47,
   "metadata": {},
   "outputs": [
    {
     "data": {
      "text/plain": [
       "galaxy    object\n",
       "dtype: object"
      ]
     },
     "execution_count": 47,
     "metadata": {},
     "output_type": "execute_result"
    }
   ],
   "source": [
    "#check dtypes for the data where its not numerical\n",
    "train.dtypes[train.dtypes == object]"
   ]
  },
  {
   "cell_type": "code",
   "execution_count": 48,
   "metadata": {},
   "outputs": [],
   "source": [
    "# its only galaxy .. the rest are in numerical form\n",
    "#changing it to categories\n",
    "# There are similarity in galaxy in both train and test\n",
    "#gonna join the data first\n",
    "\n",
    "#we will then use codes to encode\n",
    "df = pd.concat([train , test ], sort = False)\n",
    "df[\"galaxy\"] = df[\"galaxy\"].astype('category')\n",
    "df[\"galaxy\"] = df[\"galaxy\"].cat.codes"
   ]
  },
  {
   "cell_type": "code",
   "execution_count": 49,
   "metadata": {},
   "outputs": [
    {
     "data": {
      "text/plain": [
       "181"
      ]
     },
     "execution_count": 49,
     "metadata": {},
     "output_type": "execute_result"
    }
   ],
   "source": [
    "#check the total galaxies\n",
    "df.galaxy.nunique()\n",
    "# This has been made well since we had 181 uniques max"
   ]
  },
  {
   "cell_type": "code",
   "execution_count": 50,
   "metadata": {},
   "outputs": [
    {
     "data": {
      "text/plain": [
       "27"
      ]
     },
     "execution_count": 50,
     "metadata": {},
     "output_type": "execute_result"
    }
   ],
   "source": [
    "#check the galactic year\n",
    "df['galactic year'].nunique()"
   ]
  },
  {
   "cell_type": "code",
   "execution_count": null,
   "metadata": {},
   "outputs": [],
   "source": [
    "\n"
   ]
  },
  {
   "cell_type": "markdown",
   "metadata": {},
   "source": [
    "### Checking how many galaxies are there and galactic years available\n",
    "\n",
    "- There are **181** distinct galaxies on the training set and **172** on the test set.\n",
    "\n",
    "- There are **27** Galactic years ...This is the period from which data was recorded\n",
    "\n",
    "- **Not all Galaxies on Training dataset are found on test**\n",
    "\n",
    "- **Also Realized that Galaxy 126 has only 1 instance in train and lacks any in test** \n",
    "\n",
    "## conclusion\n",
    "\n",
    " - Each distinct galaxy may represent a country in real life. \n",
    " - Every sample for a galaxy may represent the national statistics of the country at a financial (galactic year). "
   ]
  },
  {
   "cell_type": "markdown",
   "metadata": {},
   "source": [
    "## Will Try Handling Outliers with RobustScaler\n",
    " - This Class scales the data based on INterquatile Range(IQR)\n",
    " - First Quartile Q1 is the 25% quantile \n",
    " - 3rd Quatile Q3 is 75% Quantile\n",
    " - Then IQR is Calculated as Q3 -Q2)/2"
   ]
  },
  {
   "cell_type": "code",
   "execution_count": 51,
   "metadata": {},
   "outputs": [],
   "source": [
    "from sklearn.preprocessing import RobustScaler"
   ]
  },
  {
   "cell_type": "code",
   "execution_count": 52,
   "metadata": {},
   "outputs": [],
   "source": [
    "\n",
    "# #we will use 20 and 80 quantile\n",
    "# rscaler = RobustScaler(quantile_range =(20 , 80))\n",
    "# df.drop('y' , axis = 1 , inplace = True)\n",
    "# cols = df.columns\n",
    "# # rscale the data\n",
    "# r_df = rscaler.fit_transform(df)\n",
    "\n",
    "# #return the df with its columns back since here its now array\n",
    "\n",
    "# df = pd.DataFrame(r_df , columns = cols)\n"
   ]
  },
  {
   "cell_type": "code",
   "execution_count": 53,
   "metadata": {},
   "outputs": [
    {
     "data": {
      "text/html": [
       "<div>\n",
       "<style scoped>\n",
       "    .dataframe tbody tr th:only-of-type {\n",
       "        vertical-align: middle;\n",
       "    }\n",
       "\n",
       "    .dataframe tbody tr th {\n",
       "        vertical-align: top;\n",
       "    }\n",
       "\n",
       "    .dataframe thead th {\n",
       "        text-align: right;\n",
       "    }\n",
       "</style>\n",
       "<table border=\"1\" class=\"dataframe\">\n",
       "  <thead>\n",
       "    <tr style=\"text-align: right;\">\n",
       "      <th></th>\n",
       "      <th>galactic year</th>\n",
       "      <th>galaxy</th>\n",
       "      <th>existence expectancy index</th>\n",
       "      <th>existence expectancy at birth</th>\n",
       "      <th>Gross income per capita</th>\n",
       "      <th>Income Index</th>\n",
       "      <th>Expected years of education (galactic years)</th>\n",
       "      <th>Mean years of education (galactic years)</th>\n",
       "      <th>Intergalactic Development Index (IDI)</th>\n",
       "      <th>Education Index</th>\n",
       "      <th>...</th>\n",
       "      <th>Intergalactic Development Index (IDI), female</th>\n",
       "      <th>Intergalactic Development Index (IDI), male</th>\n",
       "      <th>Gender Development Index (GDI)</th>\n",
       "      <th>Intergalactic Development Index (IDI), female, Rank</th>\n",
       "      <th>Intergalactic Development Index (IDI), male, Rank</th>\n",
       "      <th>Adjusted net savings</th>\n",
       "      <th>Creature Immunodeficiency Disease prevalence, adult (% ages 15-49), total</th>\n",
       "      <th>Private galaxy capital flows (% of GGP)</th>\n",
       "      <th>Gender Inequality Index (GII)</th>\n",
       "      <th>y</th>\n",
       "    </tr>\n",
       "  </thead>\n",
       "  <tbody>\n",
       "    <tr>\n",
       "      <td>0</td>\n",
       "      <td>990025</td>\n",
       "      <td>96</td>\n",
       "      <td>0.628657</td>\n",
       "      <td>63.125200</td>\n",
       "      <td>27109.234310</td>\n",
       "      <td>0.646039</td>\n",
       "      <td>8.240543</td>\n",
       "      <td>NaN</td>\n",
       "      <td>NaN</td>\n",
       "      <td>NaN</td>\n",
       "      <td>...</td>\n",
       "      <td>NaN</td>\n",
       "      <td>NaN</td>\n",
       "      <td>NaN</td>\n",
       "      <td>NaN</td>\n",
       "      <td>NaN</td>\n",
       "      <td>NaN</td>\n",
       "      <td>NaN</td>\n",
       "      <td>NaN</td>\n",
       "      <td>NaN</td>\n",
       "      <td>0.052590</td>\n",
       "    </tr>\n",
       "    <tr>\n",
       "      <td>1</td>\n",
       "      <td>990025</td>\n",
       "      <td>33</td>\n",
       "      <td>0.818082</td>\n",
       "      <td>81.004994</td>\n",
       "      <td>30166.793958</td>\n",
       "      <td>0.852246</td>\n",
       "      <td>10.671823</td>\n",
       "      <td>4.742470</td>\n",
       "      <td>0.833624</td>\n",
       "      <td>0.467873</td>\n",
       "      <td>...</td>\n",
       "      <td>NaN</td>\n",
       "      <td>NaN</td>\n",
       "      <td>NaN</td>\n",
       "      <td>NaN</td>\n",
       "      <td>NaN</td>\n",
       "      <td>19.177926</td>\n",
       "      <td>NaN</td>\n",
       "      <td>22.785018</td>\n",
       "      <td>NaN</td>\n",
       "      <td>0.059868</td>\n",
       "    </tr>\n",
       "    <tr>\n",
       "      <td>2</td>\n",
       "      <td>990025</td>\n",
       "      <td>178</td>\n",
       "      <td>0.659443</td>\n",
       "      <td>59.570534</td>\n",
       "      <td>8441.707353</td>\n",
       "      <td>0.499762</td>\n",
       "      <td>8.840316</td>\n",
       "      <td>5.583973</td>\n",
       "      <td>0.469110</td>\n",
       "      <td>0.363837</td>\n",
       "      <td>...</td>\n",
       "      <td>NaN</td>\n",
       "      <td>NaN</td>\n",
       "      <td>NaN</td>\n",
       "      <td>NaN</td>\n",
       "      <td>NaN</td>\n",
       "      <td>21.151265</td>\n",
       "      <td>6.534020</td>\n",
       "      <td>NaN</td>\n",
       "      <td>NaN</td>\n",
       "      <td>0.050449</td>\n",
       "    </tr>\n",
       "    <tr>\n",
       "      <td>3</td>\n",
       "      <td>990025</td>\n",
       "      <td>163</td>\n",
       "      <td>0.555862</td>\n",
       "      <td>52.333293</td>\n",
       "      <td>NaN</td>\n",
       "      <td>NaN</td>\n",
       "      <td>NaN</td>\n",
       "      <td>NaN</td>\n",
       "      <td>NaN</td>\n",
       "      <td>NaN</td>\n",
       "      <td>...</td>\n",
       "      <td>NaN</td>\n",
       "      <td>NaN</td>\n",
       "      <td>NaN</td>\n",
       "      <td>NaN</td>\n",
       "      <td>NaN</td>\n",
       "      <td>NaN</td>\n",
       "      <td>5.912194</td>\n",
       "      <td>NaN</td>\n",
       "      <td>NaN</td>\n",
       "      <td>0.049394</td>\n",
       "    </tr>\n",
       "    <tr>\n",
       "      <td>4</td>\n",
       "      <td>990025</td>\n",
       "      <td>155</td>\n",
       "      <td>0.991196</td>\n",
       "      <td>81.802464</td>\n",
       "      <td>81033.956906</td>\n",
       "      <td>1.131163</td>\n",
       "      <td>13.800672</td>\n",
       "      <td>13.188907</td>\n",
       "      <td>0.910341</td>\n",
       "      <td>0.918353</td>\n",
       "      <td>...</td>\n",
       "      <td>NaN</td>\n",
       "      <td>NaN</td>\n",
       "      <td>NaN</td>\n",
       "      <td>NaN</td>\n",
       "      <td>NaN</td>\n",
       "      <td>NaN</td>\n",
       "      <td>5.611753</td>\n",
       "      <td>NaN</td>\n",
       "      <td>NaN</td>\n",
       "      <td>0.154247</td>\n",
       "    </tr>\n",
       "  </tbody>\n",
       "</table>\n",
       "<p>5 rows × 80 columns</p>\n",
       "</div>"
      ],
      "text/plain": [
       "   galactic year  galaxy  existence expectancy index  \\\n",
       "0         990025      96                    0.628657   \n",
       "1         990025      33                    0.818082   \n",
       "2         990025     178                    0.659443   \n",
       "3         990025     163                    0.555862   \n",
       "4         990025     155                    0.991196   \n",
       "\n",
       "   existence expectancy at birth  Gross income per capita  Income Index  \\\n",
       "0                      63.125200             27109.234310      0.646039   \n",
       "1                      81.004994             30166.793958      0.852246   \n",
       "2                      59.570534              8441.707353      0.499762   \n",
       "3                      52.333293                      NaN           NaN   \n",
       "4                      81.802464             81033.956906      1.131163   \n",
       "\n",
       "   Expected years of education (galactic years)  \\\n",
       "0                                      8.240543   \n",
       "1                                     10.671823   \n",
       "2                                      8.840316   \n",
       "3                                           NaN   \n",
       "4                                     13.800672   \n",
       "\n",
       "   Mean years of education (galactic years)  \\\n",
       "0                                       NaN   \n",
       "1                                  4.742470   \n",
       "2                                  5.583973   \n",
       "3                                       NaN   \n",
       "4                                 13.188907   \n",
       "\n",
       "   Intergalactic Development Index (IDI)  Education Index  ...  \\\n",
       "0                                    NaN              NaN  ...   \n",
       "1                               0.833624         0.467873  ...   \n",
       "2                               0.469110         0.363837  ...   \n",
       "3                                    NaN              NaN  ...   \n",
       "4                               0.910341         0.918353  ...   \n",
       "\n",
       "   Intergalactic Development Index (IDI), female  \\\n",
       "0                                            NaN   \n",
       "1                                            NaN   \n",
       "2                                            NaN   \n",
       "3                                            NaN   \n",
       "4                                            NaN   \n",
       "\n",
       "   Intergalactic Development Index (IDI), male  \\\n",
       "0                                          NaN   \n",
       "1                                          NaN   \n",
       "2                                          NaN   \n",
       "3                                          NaN   \n",
       "4                                          NaN   \n",
       "\n",
       "   Gender Development Index (GDI)  \\\n",
       "0                             NaN   \n",
       "1                             NaN   \n",
       "2                             NaN   \n",
       "3                             NaN   \n",
       "4                             NaN   \n",
       "\n",
       "   Intergalactic Development Index (IDI), female, Rank  \\\n",
       "0                                                NaN     \n",
       "1                                                NaN     \n",
       "2                                                NaN     \n",
       "3                                                NaN     \n",
       "4                                                NaN     \n",
       "\n",
       "   Intergalactic Development Index (IDI), male, Rank  Adjusted net savings   \\\n",
       "0                                                NaN                    NaN   \n",
       "1                                                NaN              19.177926   \n",
       "2                                                NaN              21.151265   \n",
       "3                                                NaN                    NaN   \n",
       "4                                                NaN                    NaN   \n",
       "\n",
       "   Creature Immunodeficiency Disease prevalence, adult (% ages 15-49), total  \\\n",
       "0                                                NaN                           \n",
       "1                                                NaN                           \n",
       "2                                           6.534020                           \n",
       "3                                           5.912194                           \n",
       "4                                           5.611753                           \n",
       "\n",
       "   Private galaxy capital flows (% of GGP)  Gender Inequality Index (GII)  \\\n",
       "0                                      NaN                            NaN   \n",
       "1                                22.785018                            NaN   \n",
       "2                                      NaN                            NaN   \n",
       "3                                      NaN                            NaN   \n",
       "4                                      NaN                            NaN   \n",
       "\n",
       "          y  \n",
       "0  0.052590  \n",
       "1  0.059868  \n",
       "2  0.050449  \n",
       "3  0.049394  \n",
       "4  0.154247  \n",
       "\n",
       "[5 rows x 80 columns]"
      ]
     },
     "execution_count": 53,
     "metadata": {},
     "output_type": "execute_result"
    }
   ],
   "source": [
    "df.head()"
   ]
  },
  {
   "cell_type": "code",
   "execution_count": null,
   "metadata": {},
   "outputs": [],
   "source": []
  },
  {
   "cell_type": "code",
   "execution_count": null,
   "metadata": {},
   "outputs": [],
   "source": []
  },
  {
   "cell_type": "code",
   "execution_count": null,
   "metadata": {},
   "outputs": [],
   "source": []
  },
  {
   "cell_type": "markdown",
   "metadata": {},
   "source": [
    "##  Modelling and Prediction"
   ]
  },
  {
   "cell_type": "code",
   "execution_count": null,
   "metadata": {},
   "outputs": [],
   "source": []
  },
  {
   "cell_type": "markdown",
   "metadata": {},
   "source": [
    "## Discussin\n",
    "\n",
    "- We will not use 8 Galaxies from the  as they are not in the test data\n",
    "\n",
    "- According to our theory, every galaxy represent a country and columns are its statistics fields at a the financial .\n",
    "\n",
    "- Some Countries have values with Missings . We will use imputer to imputer mean with them for each coutry specific.\n",
    "\n",
    "####\n",
    "\n",
    "- I used batching similar galaxies galaxies as they give good performance of the model. \n",
    "\n",
    "\n",
    "\n",
    "- I will also try both clustering galaxies in different clusters. Then try making checking the model score.\n"
   ]
  },
  {
   "cell_type": "code",
   "execution_count": 54,
   "metadata": {},
   "outputs": [],
   "source": [
    "# get the label columns\n",
    "label = train.y"
   ]
  },
  {
   "cell_type": "code",
   "execution_count": 55,
   "metadata": {},
   "outputs": [],
   "source": [
    "#get a list of all galaxies\n",
    "galaxies = df['galaxy'].unique().tolist()"
   ]
  },
  {
   "cell_type": "code",
   "execution_count": 56,
   "metadata": {},
   "outputs": [],
   "source": [
    "#lets now get back our train and test datas\n",
    "train = df[:train.shape[0]]\n",
    "test = df[train.shape[0]:]\n",
    "# train.drop('y' , axis =1 , inplace = True)"
   ]
  },
  {
   "cell_type": "code",
   "execution_count": 57,
   "metadata": {},
   "outputs": [
    {
     "data": {
      "text/plain": [
       "((3865, 80), (3865,), (890, 80))"
      ]
     },
     "execution_count": 57,
     "metadata": {},
     "output_type": "execute_result"
    }
   ],
   "source": [
    "y = label\n",
    "train.shape , y.shape , test.shape"
   ]
  },
  {
   "cell_type": "code",
   "execution_count": 58,
   "metadata": {},
   "outputs": [],
   "source": [
    "# train.head()"
   ]
  },
  {
   "cell_type": "markdown",
   "metadata": {},
   "source": [
    "### Using GridseachCv to tune params.."
   ]
  },
  {
   "cell_type": "code",
   "execution_count": 59,
   "metadata": {},
   "outputs": [],
   "source": [
    "# #tunigin hypaparamters\n",
    "# from sklearn.model_selection import GridSearchCV\n",
    "# parameters = {\n",
    "#     'max_depth': range (2, 10, 1),\n",
    "#     'n_estimators': range(60, 220, 40),\n",
    "#     'learning_rate': [0.1, 0.01, 0.05]\n",
    "# }\n",
    "# estimator = XGBRegressor(\n",
    "#     nthread=4,\n",
    "#     seed=42\n",
    "# )\n",
    "# grid_search = GridSearchCV(\n",
    "#     estimator=estimator,\n",
    "#     param_grid=parameters,\n",
    "#     scoring = 'neg_mean_squared_error',\n",
    "#     n_jobs = 10,\n",
    "#     cv = 10,\n",
    "#     verbose=True\n",
    "# )\n",
    "\n",
    "# grid_search.fit(train , y)\n"
   ]
  },
  {
   "cell_type": "code",
   "execution_count": 60,
   "metadata": {},
   "outputs": [],
   "source": [
    "# param = grid_search.best_estimator_"
   ]
  },
  {
   "cell_type": "markdown",
   "metadata": {},
   "source": [
    "### Took loong Time as hell so i commented it"
   ]
  },
  {
   "cell_type": "code",
   "execution_count": null,
   "metadata": {},
   "outputs": [],
   "source": []
  },
  {
   "cell_type": "markdown",
   "metadata": {},
   "source": [
    "## Model Validation"
   ]
  },
  {
   "cell_type": "code",
   "execution_count": 61,
   "metadata": {},
   "outputs": [],
   "source": [
    "#a ftn to rerturn rmse scores of the models\n",
    "def sq(lis):\n",
    "  new_lis = []\n",
    "  lis = np.array(lis)\n",
    "  for i in lis:\n",
    "    i = np.sqrt(i*-1)\n",
    "    new_lis.append(i)\n",
    "  return new_lis\n",
    "\n",
    "\n",
    "#cross validate\n",
    "from catboost import CatBoostRegressor\n",
    "# ftn for cross validation\n",
    "def val_data(data,y): \n",
    "    kfolds = KFold(n_splits = 10 , random_state = 0)\n",
    "    \n",
    "    imp = SimpleImputer(missing_values=np.nan, strategy='mean').fit(data)\n",
    "    train_data=imp.transform(data)\n",
    "\n",
    "    scaler = StandardScaler().fit(data)\n",
    "    data = scaler.transform(data)\n",
    "    model_val = XGBRegressor(objective ='reg:squarederror')\n",
    "#     model_val = LGBMRegressor(n_estimators=500)\n",
    "#     model_val  =RandomForestRegressor()\n",
    "#     model_val = LinearRegression()\n",
    "\n",
    "#     model_val = CatBoostRegressor(n_estimators=500 )\n",
    "\n",
    "    val = cross_val_score(model_val ,data  , y , cv=kfolds, scoring = 'neg_mean_squared_error')\n",
    "    return sq(val)\n"
   ]
  },
  {
   "cell_type": "markdown",
   "metadata": {},
   "source": [
    "## Using Different Batch sizes"
   ]
  },
  {
   "cell_type": "code",
   "execution_count": 62,
   "metadata": {},
   "outputs": [],
   "source": [
    "## WE will start by using different batchs to test\n",
    "# bach with 60 galaxies seems to perfom somehow better\n",
    "a = [60,120,180]\n",
    "x = 0\n",
    "batch_rmse = []\n",
    "for a_a in a:\n",
    "    x_train = train[(train[\"galaxy\"]< a_a) & (train[\"galaxy\"] >=0)]\n",
    "    z = x_train.y\n",
    "    x_train = x_train.drop('y' , axis =1)\n",
    "\n",
    "    batch_rmse.append(np.mean(val_data(x_train,z)))\n",
    "    x = x+60"
   ]
  },
  {
   "cell_type": "code",
   "execution_count": 67,
   "metadata": {},
   "outputs": [
    {
     "name": "stdout",
     "output_type": "stream",
     "text": [
      "RMSE  With Batch  of 60 is  0.0235755356592737\n"
     ]
    }
   ],
   "source": [
    "print(f\"RMSE  With Batch  of 60 is  {np.mean(batch_rmse)}\")\n",
    "#perfomes worsst \n",
    "# tried with 10 ,20,30 ,45 and 60 and all are worse"
   ]
  },
  {
   "cell_type": "markdown",
   "metadata": {},
   "source": [
    "## Using Each Country's Parameters\n"
   ]
  },
  {
   "cell_type": "code",
   "execution_count": 68,
   "metadata": {},
   "outputs": [],
   "source": [
    "rmse = []\n",
    "train['y'] = y\n",
    "#galaxy number 126 seems to have one row and no test\n",
    "galaxies.remove(126)\n",
    "for gal in galaxies:\n",
    "    x_train = train[train[\"galaxy\"]== gal]\n",
    "    z = x_train.y\n",
    "    x_train = x_train.drop('y' , axis =1)\n",
    "\n",
    "    rmse.append(np.mean(val_data(x_train,z)))"
   ]
  },
  {
   "cell_type": "code",
   "execution_count": 69,
   "metadata": {},
   "outputs": [
    {
     "name": "stdout",
     "output_type": "stream",
     "text": [
      "RMSE USing Specific Countires is 0.0032975207715731734\n"
     ]
    }
   ],
   "source": [
    "print(f\"RMSE USing Specific Countires is {np.mean(rmse)}\")"
   ]
  },
  {
   "cell_type": "markdown",
   "metadata": {},
   "source": [
    "## Using Whole Dataset as similar\n"
   ]
  },
  {
   "cell_type": "code",
   "execution_count": 70,
   "metadata": {},
   "outputs": [
    {
     "name": "stdout",
     "output_type": "stream",
     "text": [
      "RmSes Scores Are    [0.0010872669778771284, 0.0010742893654101734, 0.0007969243177310009, 0.0007099688421680841, 0.0009574431868233445, 0.0009427767884473497, 0.0010076573639320142, 0.0008712707715674118, 0.0019461254573156451, 0.019227065780258356] \n"
     ]
    }
   ],
   "source": [
    "print(f\"RmSes Scores Are    {val_data(train ,y)} \")"
   ]
  },
  {
   "cell_type": "code",
   "execution_count": 71,
   "metadata": {},
   "outputs": [
    {
     "name": "stdout",
     "output_type": "stream",
     "text": [
      "RMSE For whole data is    0.002862078885153051\n"
     ]
    }
   ],
   "source": [
    "# train using whole data\n",
    "print(f\"RMSE For whole data is    {np.mean(val_data(train , y))}\")\n",
    "#this perfomed best"
   ]
  },
  {
   "cell_type": "markdown",
   "metadata": {},
   "source": [
    "### USing My Model\n",
    "  - From the models i test i find xgboost works fine and very foirst\n",
    "  - I used whole dataset and also separeted galaxywise since it had some good prediction"
   ]
  },
  {
   "cell_type": "code",
   "execution_count": 72,
   "metadata": {},
   "outputs": [],
   "source": [
    "# for x in galaxies:\n",
    "#     if len(train[train['galaxy']==x])< 5:\n",
    "#         print(x)\n",
    "\n",
    "\n",
    "# found 126 had 1 data\n"
   ]
  },
  {
   "cell_type": "code",
   "execution_count": 73,
   "metadata": {},
   "outputs": [],
   "source": [
    "# test[test['galaxy']==126]\n",
    "\n",
    "#126 has no test data"
   ]
  },
  {
   "cell_type": "code",
   "execution_count": 75,
   "metadata": {},
   "outputs": [],
   "source": [
    "\n",
    "res = pd.DataFrame()\n",
    "res[\"testcase\"] = test['galaxy']\n",
    "res[\"pred\"] = 0 #this is the prediction df using each galaxy\n",
    "res['place'] = test.index\n",
    "res['whole_pre'] = 0  # pred using whole dataset"
   ]
  },
  {
   "cell_type": "code",
   "execution_count": null,
   "metadata": {},
   "outputs": [],
   "source": []
  },
  {
   "cell_type": "code",
   "execution_count": 77,
   "metadata": {},
   "outputs": [],
   "source": [
    "#actual training preparation\n",
    "# train = train.drop('y' , axis =1)\n",
    "def process(x_train , x_test):\n",
    "    imp = SimpleImputer(missing_values=np.nan, strategy='mean').fit(x_train)\n",
    "    X_train=imp.transform(x_train)\n",
    "    X_test=imp.transform(x_test)\n",
    "\n",
    "    scaler = StandardScaler().fit(X_train)\n",
    "    X_train = scaler.transform(X_train)\n",
    "    X_test = scaler.transform(X_test)\n",
    "    "
   ]
  },
  {
   "cell_type": "code",
   "execution_count": 87,
   "metadata": {},
   "outputs": [],
   "source": [
    "#insert labels for separation purposes\n",
    "train['y'] = y\n",
    "#to check galaxies in train and not in test\n",
    "is_empty = []\n",
    "test.drop('y' , axis = 1 , inplace = True)\n",
    "for x in galaxies:\n",
    "    if len(test[test['galaxy']==x]) == 0:\n",
    "        is_empty.append(x)\n",
    "#         print(x)\n",
    "\n",
    "#remove all that are mot in test\n",
    "for each in is_empty:\n",
    "    galaxies.remove(each)\n",
    "    \n",
    "    \n",
    "#do trauning for each galaxy\n",
    "for gal in galaxies:\n",
    "    #get dataset_specific galaxy df for testand train\n",
    "    z_train = train[train[\"galaxy\"]== gal]\n",
    "    z_test = test[test[\"galaxy\"]== gal]\n",
    "    \n",
    "    #get label for that df\n",
    "#     print(z_train.shape)\n",
    "#     print(z_test.shape)\n",
    "    z = z_train.y\n",
    "    z_train = z_train.drop('y' , axis =1)\n",
    "    \n",
    "    #filling nans using imputer\n",
    "    imp = SimpleImputer(missing_values=np.nan, strategy='mean').fit(z_train)\n",
    "    z_train=imp.transform(z_train)\n",
    "    z_test=imp.transform(z_test)\n",
    "    #actual modelling\n",
    "    model = XGBRegressor(objective ='reg:squarederror')\n",
    "    model.fit(z_train , z)\n",
    "    #prediction\n",
    "    pred = model.predict(z_test)\n",
    "    #get indexes for the galaxy trained \n",
    "    x = test[test[\"galaxy\"]== gal].index\n",
    "    x.tolist()#chenge the indexes to list\n",
    "    #enumerate the indexes  in x and compare them with that of res df and add predictions to those indexes\n",
    "    for i , n in enumerate(x):\n",
    "    #     print(f\"{i}  {n}\")\n",
    "        res.iloc[n , 1]= res[res['place'] == n]['pred'] = pred[i]\n",
    "    #     print(pred)"
   ]
  },
  {
   "cell_type": "code",
   "execution_count": 93,
   "metadata": {},
   "outputs": [
    {
     "data": {
      "text/plain": [
       "((3865, 79), (890, 79))"
      ]
     },
     "execution_count": 93,
     "metadata": {},
     "output_type": "execute_result"
    }
   ],
   "source": [
    "#doing for whole predictions\n",
    "\n",
    "wh_model = XGBRegressor(objective ='reg:squarederror')\n",
    "train = train.drop('y' , axis =1)\n",
    "train.shape , test.shape"
   ]
  },
  {
   "cell_type": "code",
   "execution_count": 94,
   "metadata": {},
   "outputs": [],
   "source": [
    "\n",
    "process(train ,test)\n",
    "wh_model.fit(train , y)\n",
    "# get preds#\n",
    "predictions = wh_model.predict(test)"
   ]
  },
  {
   "cell_type": "code",
   "execution_count": 97,
   "metadata": {},
   "outputs": [],
   "source": [
    "# insert the predictions to the res df\n",
    "res['whole_pre'] = predictions"
   ]
  },
  {
   "cell_type": "code",
   "execution_count": 98,
   "metadata": {},
   "outputs": [
    {
     "data": {
      "text/html": [
       "<div>\n",
       "<style scoped>\n",
       "    .dataframe tbody tr th:only-of-type {\n",
       "        vertical-align: middle;\n",
       "    }\n",
       "\n",
       "    .dataframe tbody tr th {\n",
       "        vertical-align: top;\n",
       "    }\n",
       "\n",
       "    .dataframe thead th {\n",
       "        text-align: right;\n",
       "    }\n",
       "</style>\n",
       "<table border=\"1\" class=\"dataframe\">\n",
       "  <thead>\n",
       "    <tr style=\"text-align: right;\">\n",
       "      <th></th>\n",
       "      <th>testcase</th>\n",
       "      <th>pred</th>\n",
       "      <th>place</th>\n",
       "      <th>whole_pre</th>\n",
       "    </tr>\n",
       "  </thead>\n",
       "  <tbody>\n",
       "    <tr>\n",
       "      <td>0</td>\n",
       "      <td>84</td>\n",
       "      <td>0.042009</td>\n",
       "      <td>0</td>\n",
       "      <td>0.041185</td>\n",
       "    </tr>\n",
       "    <tr>\n",
       "      <td>1</td>\n",
       "      <td>142</td>\n",
       "      <td>0.039123</td>\n",
       "      <td>1</td>\n",
       "      <td>0.039401</td>\n",
       "    </tr>\n",
       "    <tr>\n",
       "      <td>2</td>\n",
       "      <td>142</td>\n",
       "      <td>0.039123</td>\n",
       "      <td>2</td>\n",
       "      <td>0.041665</td>\n",
       "    </tr>\n",
       "    <tr>\n",
       "      <td>3</td>\n",
       "      <td>147</td>\n",
       "      <td>0.038863</td>\n",
       "      <td>3</td>\n",
       "      <td>0.043491</td>\n",
       "    </tr>\n",
       "    <tr>\n",
       "      <td>4</td>\n",
       "      <td>178</td>\n",
       "      <td>0.030014</td>\n",
       "      <td>4</td>\n",
       "      <td>0.022697</td>\n",
       "    </tr>\n",
       "  </tbody>\n",
       "</table>\n",
       "</div>"
      ],
      "text/plain": [
       "   testcase      pred  place  whole_pre\n",
       "0        84  0.042009      0   0.041185\n",
       "1       142  0.039123      1   0.039401\n",
       "2       142  0.039123      2   0.041665\n",
       "3       147  0.038863      3   0.043491\n",
       "4       178  0.030014      4   0.022697"
      ]
     },
     "execution_count": 98,
     "metadata": {},
     "output_type": "execute_result"
    }
   ],
   "source": [
    "res.head()"
   ]
  },
  {
   "cell_type": "code",
   "execution_count": null,
   "metadata": {},
   "outputs": [],
   "source": []
  },
  {
   "cell_type": "markdown",
   "metadata": {},
   "source": [
    "## Optimization for opt_pred\n",
    "\n",
    "- When Giving 100 to all with p2 values was maximizing the energy allocation to country with low existence expentancy index .. But when i tried It perfomed averagely\n",
    "- Distributing the energie extensively say to all countries perfomed the worse.\n",
    "    - So Idecided to shrink the enegy to those countries with low existence expentancy index(high p2)\n",
    "    - My best Score occured when i shared the energy to 555 instancies differently as shown below\n",
    "    \n",
    " "
   ]
  },
  {
   "cell_type": "code",
   "execution_count": null,
   "metadata": {},
   "outputs": [],
   "source": []
  },
  {
   "cell_type": "code",
   "execution_count": 99,
   "metadata": {},
   "outputs": [
    {
     "data": {
      "text/html": [
       "<div>\n",
       "<style scoped>\n",
       "    .dataframe tbody tr th:only-of-type {\n",
       "        vertical-align: middle;\n",
       "    }\n",
       "\n",
       "    .dataframe tbody tr th {\n",
       "        vertical-align: top;\n",
       "    }\n",
       "\n",
       "    .dataframe thead th {\n",
       "        text-align: right;\n",
       "    }\n",
       "</style>\n",
       "<table border=\"1\" class=\"dataframe\">\n",
       "  <thead>\n",
       "    <tr style=\"text-align: right;\">\n",
       "      <th></th>\n",
       "      <th>testcase</th>\n",
       "      <th>pred</th>\n",
       "      <th>place</th>\n",
       "      <th>whole_pre</th>\n",
       "      <th>opt_pred</th>\n",
       "      <th>ex_ind</th>\n",
       "    </tr>\n",
       "  </thead>\n",
       "  <tbody>\n",
       "    <tr>\n",
       "      <td>0</td>\n",
       "      <td>84</td>\n",
       "      <td>0.042009</td>\n",
       "      <td>0</td>\n",
       "      <td>0.041185</td>\n",
       "      <td>0</td>\n",
       "      <td>0.456086</td>\n",
       "    </tr>\n",
       "    <tr>\n",
       "      <td>1</td>\n",
       "      <td>142</td>\n",
       "      <td>0.039123</td>\n",
       "      <td>1</td>\n",
       "      <td>0.039401</td>\n",
       "      <td>0</td>\n",
       "      <td>0.529835</td>\n",
       "    </tr>\n",
       "    <tr>\n",
       "      <td>2</td>\n",
       "      <td>142</td>\n",
       "      <td>0.039123</td>\n",
       "      <td>2</td>\n",
       "      <td>0.041665</td>\n",
       "      <td>0</td>\n",
       "      <td>0.560976</td>\n",
       "    </tr>\n",
       "    <tr>\n",
       "      <td>3</td>\n",
       "      <td>147</td>\n",
       "      <td>0.038863</td>\n",
       "      <td>3</td>\n",
       "      <td>0.043491</td>\n",
       "      <td>0</td>\n",
       "      <td>0.565910</td>\n",
       "    </tr>\n",
       "    <tr>\n",
       "      <td>4</td>\n",
       "      <td>178</td>\n",
       "      <td>0.030014</td>\n",
       "      <td>4</td>\n",
       "      <td>0.022697</td>\n",
       "      <td>0</td>\n",
       "      <td>0.588274</td>\n",
       "    </tr>\n",
       "  </tbody>\n",
       "</table>\n",
       "</div>"
      ],
      "text/plain": [
       "   testcase      pred  place  whole_pre  opt_pred    ex_ind\n",
       "0        84  0.042009      0   0.041185         0  0.456086\n",
       "1       142  0.039123      1   0.039401         0  0.529835\n",
       "2       142  0.039123      2   0.041665         0  0.560976\n",
       "3       147  0.038863      3   0.043491         0  0.565910\n",
       "4       178  0.030014      4   0.022697         0  0.588274"
      ]
     },
     "execution_count": 99,
     "metadata": {},
     "output_type": "execute_result"
    }
   ],
   "source": [
    "res['opt_pred'] =0#set optimization col to 0\n",
    "#get existence expectancy index col from the test\n",
    "res['ex_ind'] = test[\"existence expectancy index\"].fillna(test[\"existence expectancy index\"].quantile(0.15))\n",
    "res.head()"
   ]
  },
  {
   "cell_type": "code",
   "execution_count": 100,
   "metadata": {},
   "outputs": [],
   "source": [
    "#some calculations to check conditions\n",
    "index = res['pred']\n",
    "pot_inc = -np.log(index+0.01)+3\n",
    "p2= pot_inc**2\n",
    "\n",
    "likely_inc = index *p2/1000\n",
    "# "
   ]
  },
  {
   "cell_type": "code",
   "execution_count": null,
   "metadata": {},
   "outputs": [],
   "source": [
    "# res.loc[likely_inc.nlargest(400).index]['ex_ind']<0.7"
   ]
  },
  {
   "cell_type": "code",
   "execution_count": 101,
   "metadata": {},
   "outputs": [],
   "source": [
    "# res[res[\"ex_ind\"] > 0.9]['ex_ind'].nsmallest(32)"
   ]
  },
  {
   "cell_type": "code",
   "execution_count": 102,
   "metadata": {},
   "outputs": [],
   "source": [
    "res.loc[p2.nlargest(342).index, 'opt_pred']=100\n",
    "res=res.sort_values('pred')\n",
    "res.iloc[342:400].opt_pred = 90\n",
    "res.iloc[400:553].opt_pred = 69\n",
    "res.iloc[553:554].opt_pred = 23\n",
    "res=res.sort_index()"
   ]
  },
  {
   "cell_type": "code",
   "execution_count": 103,
   "metadata": {},
   "outputs": [],
   "source": [
    "#enery increase\n",
    "en_increase = (res['opt_pred']*p2)/1000"
   ]
  },
  {
   "cell_type": "code",
   "execution_count": 105,
   "metadata": {},
   "outputs": [
    {
     "name": "stdout",
     "output_type": "stream",
     "text": [
      "Sum:  1844.9451196820314\n",
      " With <0.7 :; 6528\n",
      " total Allocated energy 50000\n"
     ]
    }
   ],
   "source": [
    "print(f\"Sum:  {sum(en_increase)}\\n With <0.7 :; { res.loc[res.ex_ind < 0.7, 'opt_pred'].sum()}\\n total Allocated energy { res['opt_pred'].sum()}\")"
   ]
  },
  {
   "cell_type": "code",
   "execution_count": 117,
   "metadata": {},
   "outputs": [],
   "source": [
    "\n",
    "#columns to submit\n",
    "res['index'] = res['place']\n",
    "cols_each = ['index' , 'pred' , 'opt_pred']"
   ]
  },
  {
   "cell_type": "code",
   "execution_count": 119,
   "metadata": {},
   "outputs": [],
   "source": [
    "sub_each = res[cols_each]\n",
    "# res.head()"
   ]
  },
  {
   "cell_type": "code",
   "execution_count": 120,
   "metadata": {},
   "outputs": [
    {
     "data": {
      "text/html": [
       "<div>\n",
       "<style scoped>\n",
       "    .dataframe tbody tr th:only-of-type {\n",
       "        vertical-align: middle;\n",
       "    }\n",
       "\n",
       "    .dataframe tbody tr th {\n",
       "        vertical-align: top;\n",
       "    }\n",
       "\n",
       "    .dataframe thead th {\n",
       "        text-align: right;\n",
       "    }\n",
       "</style>\n",
       "<table border=\"1\" class=\"dataframe\">\n",
       "  <thead>\n",
       "    <tr style=\"text-align: right;\">\n",
       "      <th></th>\n",
       "      <th>index</th>\n",
       "      <th>pred</th>\n",
       "      <th>opt_pred</th>\n",
       "    </tr>\n",
       "  </thead>\n",
       "  <tbody>\n",
       "    <tr>\n",
       "      <td>0</td>\n",
       "      <td>0</td>\n",
       "      <td>0.042009</td>\n",
       "      <td>100</td>\n",
       "    </tr>\n",
       "    <tr>\n",
       "      <td>1</td>\n",
       "      <td>1</td>\n",
       "      <td>0.039123</td>\n",
       "      <td>100</td>\n",
       "    </tr>\n",
       "    <tr>\n",
       "      <td>2</td>\n",
       "      <td>2</td>\n",
       "      <td>0.039123</td>\n",
       "      <td>100</td>\n",
       "    </tr>\n",
       "    <tr>\n",
       "      <td>3</td>\n",
       "      <td>3</td>\n",
       "      <td>0.038863</td>\n",
       "      <td>100</td>\n",
       "    </tr>\n",
       "    <tr>\n",
       "      <td>4</td>\n",
       "      <td>4</td>\n",
       "      <td>0.030014</td>\n",
       "      <td>100</td>\n",
       "    </tr>\n",
       "  </tbody>\n",
       "</table>\n",
       "</div>"
      ],
      "text/plain": [
       "   index      pred  opt_pred\n",
       "0      0  0.042009       100\n",
       "1      1  0.039123       100\n",
       "2      2  0.039123       100\n",
       "3      3  0.038863       100\n",
       "4      4  0.030014       100"
      ]
     },
     "execution_count": 120,
     "metadata": {},
     "output_type": "execute_result"
    }
   ],
   "source": [
    "sub_each.head()"
   ]
  },
  {
   "cell_type": "code",
   "execution_count": null,
   "metadata": {},
   "outputs": [],
   "source": [
    "sub_each.to_csv('submit.csv' , index = False)"
   ]
  },
  {
   "cell_type": "code",
   "execution_count": null,
   "metadata": {},
   "outputs": [],
   "source": []
  },
  {
   "cell_type": "code",
   "execution_count": 124,
   "metadata": {},
   "outputs": [],
   "source": [
    "#submission for prediction with whole dataset\n",
    "cols_whole = ['index' , 'whole_pre' , 'opt_pred']"
   ]
  },
  {
   "cell_type": "code",
   "execution_count": 132,
   "metadata": {},
   "outputs": [],
   "source": [
    "alll = res[cols_whole]"
   ]
  },
  {
   "cell_type": "code",
   "execution_count": 130,
   "metadata": {},
   "outputs": [],
   "source": [
    "alll.to_csv('AllDs.csv' ,index = False )"
   ]
  },
  {
   "cell_type": "code",
   "execution_count": 131,
   "metadata": {},
   "outputs": [
    {
     "data": {
      "text/html": [
       "<div>\n",
       "<style scoped>\n",
       "    .dataframe tbody tr th:only-of-type {\n",
       "        vertical-align: middle;\n",
       "    }\n",
       "\n",
       "    .dataframe tbody tr th {\n",
       "        vertical-align: top;\n",
       "    }\n",
       "\n",
       "    .dataframe thead th {\n",
       "        text-align: right;\n",
       "    }\n",
       "</style>\n",
       "<table border=\"1\" class=\"dataframe\">\n",
       "  <thead>\n",
       "    <tr style=\"text-align: right;\">\n",
       "      <th></th>\n",
       "      <th>index</th>\n",
       "      <th>whole_pre</th>\n",
       "      <th>opt_pred</th>\n",
       "    </tr>\n",
       "  </thead>\n",
       "  <tbody>\n",
       "    <tr>\n",
       "      <td>885</td>\n",
       "      <td>885</td>\n",
       "      <td>0.090191</td>\n",
       "      <td>100</td>\n",
       "    </tr>\n",
       "    <tr>\n",
       "      <td>886</td>\n",
       "      <td>886</td>\n",
       "      <td>0.085315</td>\n",
       "      <td>100</td>\n",
       "    </tr>\n",
       "    <tr>\n",
       "      <td>887</td>\n",
       "      <td>887</td>\n",
       "      <td>0.090191</td>\n",
       "      <td>0</td>\n",
       "    </tr>\n",
       "    <tr>\n",
       "      <td>888</td>\n",
       "      <td>888</td>\n",
       "      <td>0.090191</td>\n",
       "      <td>69</td>\n",
       "    </tr>\n",
       "    <tr>\n",
       "      <td>889</td>\n",
       "      <td>889</td>\n",
       "      <td>0.081445</td>\n",
       "      <td>100</td>\n",
       "    </tr>\n",
       "  </tbody>\n",
       "</table>\n",
       "</div>"
      ],
      "text/plain": [
       "     index  whole_pre  opt_pred\n",
       "885    885   0.090191       100\n",
       "886    886   0.085315       100\n",
       "887    887   0.090191         0\n",
       "888    888   0.090191        69\n",
       "889    889   0.081445       100"
      ]
     },
     "execution_count": 131,
     "metadata": {},
     "output_type": "execute_result"
    }
   ],
   "source": [
    "alll.tail()"
   ]
  },
  {
   "cell_type": "code",
   "execution_count": null,
   "metadata": {},
   "outputs": [],
   "source": []
  },
  {
   "cell_type": "code",
   "execution_count": null,
   "metadata": {},
   "outputs": [],
   "source": []
  }
 ],
 "metadata": {
  "kernelspec": {
   "display_name": "Python 3",
   "language": "python",
   "name": "python3"
  },
  "language_info": {
   "codemirror_mode": {
    "name": "ipython",
    "version": 3
   },
   "file_extension": ".py",
   "mimetype": "text/x-python",
   "name": "python",
   "nbconvert_exporter": "python",
   "pygments_lexer": "ipython3",
   "version": "3.7.4"
  }
 },
 "nbformat": 4,
 "nbformat_minor": 2
}
